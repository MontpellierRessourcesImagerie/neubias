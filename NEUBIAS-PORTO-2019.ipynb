{
 "cells": [
  {
   "cell_type": "markdown",
   "metadata": {
    "slideshow": {
     "slide_type": "slide"
    }
   },
   "source": [
    "![Webbanner_logosNEUBIAS-COST-sm.jpg](http://eubias.org/NEUBIAS/wp-content/uploads/2018/04/Webbanner_logosNEUBIAS-COST-sm.jpg)\n",
    "\n",
    "# NeuBIAS Porto 2019\n",
    "\n",
    "* 6th NEUBIAS Training School for Early Career Investigators (TS12)\n",
    "* 4th Training School for Facility Staff (TS13), Porto  2019\n",
    "* Taggathon [BISE](https://biii.eu)\n",
    "* Hackathon [BIAFLOWS](https://biaflows.neubias.org/)"
   ]
  },
  {
   "cell_type": "markdown",
   "metadata": {
    "slideshow": {
     "slide_type": "slide"
    }
   },
   "source": [
    "# TS12\n",
    "\n",
    "<img src=\"https://fiji.sc/site/logo.png\" width=\"75\" height=\"75\" />\n",
    "\n",
    "## Day 1\n",
    "\n",
    "* ImageJ & understanding your images (pixels to microns)\n",
    "* Image Filters and morphomats\n",
    "* Programming for ImageJ, A recorder, loops, statements etc...\n",
    "* [“Natural history of fake data” lecture](https://docs.google.com/presentation/d/1qEqPXI9QVwtAVFSVPamQ7EE1ZCSmhMq0XrlrwVnuS5A/edit#slide=id.p4)\n",
    "\n",
    "## Day 2\n",
    "\n",
    "* 2D & 3D object analysis\n",
    "* Cell tracking\n",
    "* Programming in ImageJ B\n",
    "* Data fitting and machine learning / segmentation\n",
    "* Webtool : BISE & Biasflow\n"
   ]
  },
  {
   "cell_type": "markdown",
   "metadata": {
    "slideshow": {
     "slide_type": "subslide"
    }
   },
   "source": [
    "# TS12 (continued)\n",
    "\n",
    "<img src=\"https://cellprofiler.org/images/cp_logo.png\" height=\"75\" width=\"150\"/>\n",
    "\n",
    "## Day 3 \n",
    "\n",
    "* Colocalization analysis\n",
    "* Stitching and registration\n",
    "* CellProfiler\n",
    "\n",
    "## Day 4\n",
    "\n",
    "* FigureJ/preparing figures\n",
    "* Work on own data, discuss code, present results & wrap up"
   ]
  },
  {
   "cell_type": "markdown",
   "metadata": {
    "slideshow": {
     "slide_type": "slide"
    }
   },
   "source": [
    "# TS13\n",
    "\n",
    "## Day 1 \"Scripting with FIJI\"\n",
    "\n",
    "* Advanced ImageJ programming\n",
    "* git intro\n",
    "* CLIJ\n",
    "* Work on own data\n",
    "* [“Natural history of fake data” lecture](https://docs.google.com/presentation/d/1qEqPXI9QVwtAVFSVPamQ7EE1ZCSmhMq0XrlrwVnuS5A/edit#slide=id.p4)\n",
    "\n",
    "## Day 2 \"Scripting with FIJI\"\n",
    "\n",
    "* Tracking \n",
    "* ImageJ/ImgLib2 API\n",
    "* Machine Learning\n",
    "* Work on own data\n",
    "* Webtool : BISE & Biasflow"
   ]
  },
  {
   "cell_type": "markdown",
   "metadata": {
    "slideshow": {
     "slide_type": "subslide"
    }
   },
   "source": [
    "# TS13 (continued)\n",
    "\n",
    "## Day 3 “Scripting with Python”\n",
    "\n",
    "* Python scikit-image\n",
    "* Python; data analysis; plotting\n",
    "* Lecture\n",
    "* PyImageJ\n",
    "* Work on own data\n",
    "\n",
    "## Day 4 “WOYOD”\n",
    "\n",
    "* Big Data Handling\n",
    "* Work on own data\n",
    "* Student presentations and farewell"
   ]
  },
  {
   "cell_type": "code",
   "execution_count": null,
   "metadata": {},
   "outputs": [],
   "source": []
  }
 ],
 "metadata": {
  "celltoolbar": "Slideshow",
  "kernelspec": {
   "display_name": "Python 3",
   "language": "python",
   "name": "python3"
  },
  "language_info": {
   "codemirror_mode": {
    "name": "ipython",
    "version": 3
   },
   "file_extension": ".py",
   "mimetype": "text/x-python",
   "name": "python",
   "nbconvert_exporter": "python",
   "pygments_lexer": "ipython3",
   "version": "3.7.3"
  }
 },
 "nbformat": 4,
 "nbformat_minor": 2
}
