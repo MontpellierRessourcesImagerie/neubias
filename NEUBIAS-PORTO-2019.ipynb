{
 "cells": [
  {
   "cell_type": "markdown",
   "metadata": {
    "slideshow": {
     "slide_type": "slide"
    }
   },
   "source": [
    "![Webbanner_logosNEUBIAS-COST-sm.jpg](http://eubias.org/NEUBIAS/wp-content/uploads/2018/04/Webbanner_logosNEUBIAS-COST-sm.jpg)\n",
    "\n",
    "# NeuBIAS Porto 2019\n",
    "\n",
    "* 6th NEUBIAS Training School for Early Career Investigators (TS12)\n",
    "* 4th Training School for Facility Staff (TS13), Porto  2019\n",
    "* Taggathon [BISE](https://biii.eu)\n",
    "* Hackathon [BIAFLOWS](https://biaflows.neubias.org/)"
   ]
  },
  {
   "cell_type": "markdown",
   "metadata": {
    "slideshow": {
     "slide_type": "slide"
    }
   },
   "source": [
    "# TS12\n",
    "\n",
    "<img src=\"https://fiji.sc/site/logo.png\" width=\"75\" height=\"75\" style=\"float: right;\"/>\n",
    "\n",
    "## Day 1\n",
    "\n",
    "* ImageJ & understanding your images (pixels to microns)\n",
    "* Image Filters and morphomats\n",
    "* Programming for ImageJ, A recorder, loops, statements etc...\n",
    "* [“Natural history of fake data” lecture](https://docs.google.com/presentation/d/1qEqPXI9QVwtAVFSVPamQ7EE1ZCSmhMq0XrlrwVnuS5A/edit#slide=id.p4)\n",
    "\n",
    "## Day 2\n",
    "\n",
    "* 2D & 3D object analysis\n",
    "* Cell tracking\n",
    "* Programming in ImageJ B\n",
    "* Data fitting and machine learning / segmentation\n",
    "* Webtool : BISE & Biasflow\n"
   ]
  },
  {
   "cell_type": "markdown",
   "metadata": {
    "slideshow": {
     "slide_type": "subslide"
    }
   },
   "source": [
    "# TS12 (continued)\n",
    "\n",
    "<img src=\"https://cellprofiler.org/images/cp_logo.png\" height=\"75\" width=\"150\" style=\"float: right;\"/>\n",
    "<img src=\"https://fiji.sc/site/logo.png\" width=\"75\" height=\"75\" style=\"float: right;\" />\n",
    "\n",
    "## Day 3 \n",
    "\n",
    "* Colocalization analysis\n",
    "* Stitching and registration\n",
    "* CellProfiler\n",
    "\n",
    "## Day 4\n",
    "\n",
    "* FigureJ/preparing figures\n",
    "* Work on own data, discuss code, present results & wrap up"
   ]
  },
  {
   "cell_type": "markdown",
   "metadata": {
    "slideshow": {
     "slide_type": "slide"
    }
   },
   "source": [
    "# TS13\n",
    "<img src=\"https://git-scm.com/images/logo@2x.png\" width=\"75\" height=\"75\" style=\"float: right;\" />\n",
    "<img src=\"https://clij.github.io/images/clij_logo.png\" width=\"75\" height=\"75\" style=\"float: right;\" />\n",
    "\n",
    "## Day 1 \"Scripting with FIJI\"\n",
    "\n",
    "* Advanced ImageJ programming\n",
    "* git intro\n",
    "* CLIJ\n",
    "* Work on own data\n",
    "* [“Natural history of fake data” lecture](https://docs.google.com/presentation/d/1qEqPXI9QVwtAVFSVPamQ7EE1ZCSmhMq0XrlrwVnuS5A/edit#slide=id.p4)\n",
    "\n",
    "<img src=\"https://imagej.net/_images/1/19/Imglib2-logo.png\" width=\"75\" height=\"75\" style=\"float: right;\" />\n",
    "\n",
    "## Day 2 \"Scripting with FIJI\"\n",
    "\n",
    "* Tracking \n",
    "* ImageJ/ImgLib2 API\n",
    "* Machine Learning\n",
    "* Work on own data\n",
    "* Webtool : BISE & Biasflow"
   ]
  },
  {
   "cell_type": "markdown",
   "metadata": {
    "slideshow": {
     "slide_type": "subslide"
    }
   },
   "source": [
    "# TS13 (continued)\n",
    "<img src=\"https://scikit-image.org/_static/img/logo.png\" width=\"150\" height=\"75\" style=\"float: right;\" />\n",
    "<img src=\"https://www.python.org/static/img/python-logo.png\" width=\"150\" height=\"75\" style=\"float: right;\" />\n",
    "\n",
    "\n",
    "## Day 3 “Scripting with Python”\n",
    "\n",
    "* Python scikit-image\n",
    "* Python; data analysis; plotting\n",
    "* Lecture\n",
    "* PyImageJ\n",
    "* Work on own data\n",
    "\n",
    "## Day 4 “WOYOD”\n",
    "\n",
    "* Big Data Handling\n",
    "* Work on own data\n",
    "* Student presentations and farewell"
   ]
  },
  {
   "cell_type": "markdown",
   "metadata": {
    "slideshow": {
     "slide_type": "slide"
    }
   },
   "source": [
    "# BISE\n",
    "\n",
    "<img src=\"http://biii.eu/sites/default/files/NEUBIASlogo.png\" width=\"150\" height=\"150\" style=\"float: right;\" />\n",
    "\n",
    "[biii.eu](http://biii.eu/)\n",
    "* Training Material (70)\n",
    "* Dataset (21)\n",
    "* Software (1303)\n",
    "\n",
    "    * Component\t901\n",
    "    * Collection\t271\n",
    "    * Workflow\t143\n",
    "    * I do not know\t13"
   ]
  },
  {
   "cell_type": "markdown",
   "metadata": {
    "slideshow": {
     "slide_type": "slide"
    }
   },
   "source": [
    "# BIAFLOWS\n",
    "\n",
    "<img src=\"https://biaflows.neubias.org/img/logo.022c193f.png\" width=\"150\" height=\"150\" style=\"float: right;\" />\n",
    "\n",
    "[biaflows.neubias.org/](https://biaflows.neubias.org/)\n",
    "\n",
    "[www.biorxiv.org](https://www.biorxiv.org/content/10.1101/707489v1)\n",
    "\n",
    "* Problem classes\n",
    "    * NUCLEI-SEGMENTATION - 2D, 3D\n",
    "    * NUCLEI-TRACKING - DIVISION; NO DIVISION\n",
    "    * LANDMARKS DETECTION DROSOPHILA WINGS\n",
    "    * PIXEL CLASSIFICATION - GLAND-SEGMENTATION\n",
    "    * NEURON-TRACING - 3D\n",
    "    * SPOT-COUNTING - 2D, 3D\n",
    "    * SPOT-DETECTION - 2D, 3D\n",
    "* Software platforms\n",
    "    * [ImageJ](https://imagej.net/)\n",
    "    * [Icy](http://icy.bioimageanalysis.org/)\n",
    "    * [Cellprofiler](https://cellprofiler.org/)\n",
    "    * [Ilastik](https://www.ilastik.org/)\n",
    "    * python\n",
    "    * [vaa3D](http://home.penglab.com/proj/vaa3d/home/index.html)\n",
    "    * [Rivuletpy](https://github.com/RivuletStudio/rivuletpy)\n"
   ]
  },
  {
   "cell_type": "markdown",
   "metadata": {
    "slideshow": {
     "slide_type": "subslide"
    }
   },
   "source": [
    "# Running BIAFLOWS locally\n",
    "\n",
    "```\n",
    "docker run  neubiaswg5/w_spotdetection-icy \\\\  \n",
    "    --icy_scale3sensitivity $SCALE_3_SENSITIVITY \\\\\n",
    "    --infolder $IN_FOLDER \\\\\n",
    "    --gtfolder $GT_FOLDER \\\\\n",
    "    --outfolder $OUT_FOLDER \\\\\n",
    "    --local\n",
    "    \n",
    "docker run  neubiaswg5/w_spotdetection-ij \\\\  \n",
    "    --ij_radius $STD_DEV \\\\\n",
    "    --ij_noise $NOISE \\\\\n",
    "    --infolder $IN_FOLDER \\\\\n",
    "    --gtfolder $GT_FOLDER \\\\\n",
    "    --outfolder $OUT_FOLDER \\\\\n",
    "    --local\n",
    "```"
   ]
  },
  {
   "cell_type": "markdown",
   "metadata": {
    "slideshow": {
     "slide_type": "subslide"
    }
   },
   "source": []
  },
  {
   "attachments": {},
   "cell_type": "markdown",
   "metadata": {
    "slideshow": {
     "slide_type": "subslide"
    }
   },
   "source": [
    "| Image\t| spots ij\t| spots icy\t| Ground-truth\t| rel. Err. Ij\t| rel. Err. icy |\n",
    "|-------|-----------|-----------|---------------|---------------|---------------|\n",
    "|Img_0001_Spt.tif |   \t1402|\t1334|\t1969|\t0,29|\t0,32|\n",
    "|Img_0002_Spt.tif |   \t715\t|688\t|938\t|0,24\t|0,27|\n",
    "|Img_0003_Spt.tif |  \t674\t|655\t|855\t|0,21\t|0,23|\n",
    "|Img_0004_Spt.tif |  \t709\t|702\t|936\t|0,24\t|0,25|\n",
    "|Img_0005_Spt.tif |   \t1011|\t1004|\t1469|\t0,31|\t0,32|\n",
    "|Mean\t\t|\t\t0,26\t|0,28|\n",
    "|StdDev\t\t|\t\t0,04\t|0,04|\n"
   ]
  }
 ],
 "metadata": {
  "celltoolbar": "Slideshow",
  "kernelspec": {
   "display_name": "Python 3",
   "language": "python",
   "name": "python3"
  },
  "language_info": {
   "codemirror_mode": {
    "name": "ipython",
    "version": 3
   },
   "file_extension": ".py",
   "mimetype": "text/x-python",
   "name": "python",
   "nbconvert_exporter": "python",
   "pygments_lexer": "ipython3",
   "version": "3.7.3"
  }
 },
 "nbformat": 4,
 "nbformat_minor": 2
}
